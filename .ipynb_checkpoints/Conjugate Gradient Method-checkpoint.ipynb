{
 "cells": [
  {
   "cell_type": "code",
   "execution_count": 1,
   "id": "fb591ae9",
   "metadata": {},
   "outputs": [],
   "source": [
    "import numpy as np\n",
    "import sys"
   ]
  },
  {
   "cell_type": "code",
   "execution_count": 2,
   "id": "d3d7f662",
   "metadata": {},
   "outputs": [],
   "source": [
    "# Defining the matrix A\n",
    "A = np.array([\n",
    "    [10,-6,0],\n",
    "    [-6,8,-2],\n",
    "    [0,-2,5]\n",
    "])"
   ]
  },
  {
   "cell_type": "code",
   "execution_count": 3,
   "id": "be7c51a4",
   "metadata": {},
   "outputs": [
    {
     "data": {
      "text/plain": [
       "array([[10, -6,  0],\n",
       "       [-6,  8, -2],\n",
       "       [ 0, -2,  5]])"
      ]
     },
     "execution_count": 3,
     "metadata": {},
     "output_type": "execute_result"
    }
   ],
   "source": [
    "A"
   ]
  },
  {
   "cell_type": "code",
   "execution_count": 4,
   "id": "1bd8ed6a",
   "metadata": {},
   "outputs": [
    {
     "data": {
      "text/plain": [
       "array([[10, -6,  0],\n",
       "       [-6,  8, -2],\n",
       "       [ 0, -2,  5]])"
      ]
     },
     "execution_count": 4,
     "metadata": {},
     "output_type": "execute_result"
    }
   ],
   "source": [
    "np.transpose(A)"
   ]
  },
  {
   "cell_type": "code",
   "execution_count": 5,
   "id": "e6bd277d",
   "metadata": {},
   "outputs": [],
   "source": [
    "# Defining the matrix B\n",
    "B = np.array([[12],\n",
    "              [0],\n",
    "              [0]])"
   ]
  },
  {
   "cell_type": "code",
   "execution_count": 6,
   "id": "41dfeb16",
   "metadata": {},
   "outputs": [],
   "source": [
    "# Choose your initial guess\n",
    "initial_guess = np.array([[0],\n",
    "                          [0],\n",
    "                          [0]])"
   ]
  },
  {
   "cell_type": "code",
   "execution_count": 7,
   "id": "954cb4f0",
   "metadata": {},
   "outputs": [],
   "source": [
    "# iteration statrts for the first time\n",
    "r0 = B - np.dot(A,initial_guess)"
   ]
  },
  {
   "cell_type": "code",
   "execution_count": 8,
   "id": "9cf063dd",
   "metadata": {},
   "outputs": [
    {
     "data": {
      "text/plain": [
       "array([[12],\n",
       "       [ 0],\n",
       "       [ 0]])"
      ]
     },
     "execution_count": 8,
     "metadata": {},
     "output_type": "execute_result"
    }
   ],
   "source": [
    "r0"
   ]
  },
  {
   "cell_type": "code",
   "execution_count": 9,
   "id": "8dd9e8d8",
   "metadata": {},
   "outputs": [],
   "source": [
    "# For first procedure only\n",
    "p0 = r0"
   ]
  },
  {
   "cell_type": "code",
   "execution_count": 10,
   "id": "b8ba0e5d",
   "metadata": {},
   "outputs": [],
   "source": [
    "dec = np.array([[False],\n",
    "       [False]])"
   ]
  },
  {
   "cell_type": "code",
   "execution_count": 11,
   "id": "9267fd16",
   "metadata": {},
   "outputs": [],
   "source": [
    "import pandas as pd\n",
    "df = pd.DataFrame()\n",
    "soln_matrix = []"
   ]
  },
  {
   "cell_type": "code",
   "execution_count": 12,
   "id": "ef561e94",
   "metadata": {
    "scrolled": false
   },
   "outputs": [
    {
     "name": "stdout",
     "output_type": "stream",
     "text": [
      "alpha0: [[0.1]]\n",
      "X1: [[1.2]\n",
      " [0. ]\n",
      " [0. ]]\n",
      "r1: [[0. ]\n",
      " [7.2]\n",
      " [0. ]]\n",
      "B0: 0.36000000000000004\n",
      "p1: [[4.32]\n",
      " [7.2 ]\n",
      " [0.  ]]\n",
      "alpha0: [[0.22727273]]\n",
      "X1: [[2.18181818]\n",
      " [1.63636364]\n",
      " [0.        ]]\n",
      "r1: [[0.        ]\n",
      " [0.        ]\n",
      " [3.27272727]]\n",
      "B0: 0.2066115702479339\n",
      "p1: [[0.89256198]\n",
      " [1.48760331]\n",
      " [3.27272727]]\n",
      "alpha0: [[0.24444444]]\n",
      "X1: [[2.4]\n",
      " [2. ]\n",
      " [0.8]]\n",
      "r1: [[0.]\n",
      " [0.]\n",
      " [0.]]\n",
      "B0: 0.0\n",
      "p1: [[0.]\n",
      " [0.]\n",
      " [0.]]\n"
     ]
    }
   ],
   "source": [
    "while dec.all()!=True:\n",
    "    alpha0 = np.dot(np.transpose(r0),r0)/np.dot(np.transpose(p0),np.dot(A,p0))[0][0]\n",
    "    print(f'alpha0: {alpha0}')\n",
    "    x1 = initial_guess + alpha0*p0\n",
    "    print(f'X1: {x1}')\n",
    "    r1 = r0 - alpha0*np.dot(A,p0)\n",
    "    print(f'r1: {r1}')\n",
    "    B0 = (np.dot(np.transpose(r1),r1)/np.dot(np.transpose(r0),r0))[0][0]\n",
    "    print(f'B0: {B0}')\n",
    "    p1 = r1 + B0*p0\n",
    "    print(f'p1: {p1}')\n",
    "    dec = abs(initial_guess-x1)<np.array([[0.001],[0.001],[0.001]])\n",
    "    initial_guess=x1\n",
    "    r0=r1\n",
    "    p0=p1\n",
    "    soln_matrix.append(x1)\n",
    "    if (r0==np.array([[0.],[0.],[0.]])).all():\n",
    "        break"
   ]
  },
  {
   "cell_type": "code",
   "execution_count": 13,
   "id": "8ce2b9bc",
   "metadata": {},
   "outputs": [
    {
     "data": {
      "text/plain": [
       "array([[2.4],\n",
       "       [2. ],\n",
       "       [0.8]])"
      ]
     },
     "execution_count": 13,
     "metadata": {},
     "output_type": "execute_result"
    }
   ],
   "source": [
    "x1"
   ]
  },
  {
   "cell_type": "code",
   "execution_count": 14,
   "id": "b5956ab2",
   "metadata": {},
   "outputs": [
    {
     "data": {
      "text/plain": [
       "[array([[1.2],\n",
       "        [0. ],\n",
       "        [0. ]]),\n",
       " array([[2.18181818],\n",
       "        [1.63636364],\n",
       "        [0.        ]]),\n",
       " array([[2.4],\n",
       "        [2. ],\n",
       "        [0.8]])]"
      ]
     },
     "execution_count": 14,
     "metadata": {},
     "output_type": "execute_result"
    }
   ],
   "source": [
    "soln_matrix"
   ]
  },
  {
   "cell_type": "code",
   "execution_count": 15,
   "id": "6ffa2419",
   "metadata": {},
   "outputs": [],
   "source": [
    "length=len(soln_matrix)"
   ]
  },
  {
   "cell_type": "code",
   "execution_count": null,
   "id": "f81619bc",
   "metadata": {},
   "outputs": [],
   "source": []
  },
  {
   "cell_type": "code",
   "execution_count": 17,
   "id": "a2011012",
   "metadata": {},
   "outputs": [],
   "source": [
    "sn_arr=[]\n",
    "x_arr=[]\n",
    "y_arr=[]\n",
    "z_arr=[]\n",
    "for i in range(1,length+1):\n",
    "    sn_arr.append(i)\n",
    "    x_arr.append(soln_matrix[i-1][0][0])\n",
    "    y_arr.append(soln_matrix[i-1][1][0])\n",
    "    z_arr.append(soln_matrix[i-1][2][0])"
   ]
  },
  {
   "cell_type": "code",
   "execution_count": 18,
   "id": "006c4c48",
   "metadata": {},
   "outputs": [],
   "source": [
    "df['SN']=sn_arr\n",
    "df['X']=x_arr\n",
    "df['Y']=y_arr\n",
    "df['Z']=z_arr"
   ]
  },
  {
   "cell_type": "code",
   "execution_count": 19,
   "id": "cabab42e",
   "metadata": {},
   "outputs": [
    {
     "data": {
      "text/html": [
       "<div>\n",
       "<style scoped>\n",
       "    .dataframe tbody tr th:only-of-type {\n",
       "        vertical-align: middle;\n",
       "    }\n",
       "\n",
       "    .dataframe tbody tr th {\n",
       "        vertical-align: top;\n",
       "    }\n",
       "\n",
       "    .dataframe thead th {\n",
       "        text-align: right;\n",
       "    }\n",
       "</style>\n",
       "<table border=\"1\" class=\"dataframe\">\n",
       "  <thead>\n",
       "    <tr style=\"text-align: right;\">\n",
       "      <th></th>\n",
       "      <th>SN</th>\n",
       "      <th>X</th>\n",
       "      <th>Y</th>\n",
       "      <th>Z</th>\n",
       "    </tr>\n",
       "  </thead>\n",
       "  <tbody>\n",
       "    <tr>\n",
       "      <th>0</th>\n",
       "      <td>1</td>\n",
       "      <td>1.200000</td>\n",
       "      <td>0.000000</td>\n",
       "      <td>0.0</td>\n",
       "    </tr>\n",
       "    <tr>\n",
       "      <th>1</th>\n",
       "      <td>2</td>\n",
       "      <td>2.181818</td>\n",
       "      <td>1.636364</td>\n",
       "      <td>0.0</td>\n",
       "    </tr>\n",
       "    <tr>\n",
       "      <th>2</th>\n",
       "      <td>3</td>\n",
       "      <td>2.400000</td>\n",
       "      <td>2.000000</td>\n",
       "      <td>0.8</td>\n",
       "    </tr>\n",
       "  </tbody>\n",
       "</table>\n",
       "</div>"
      ],
      "text/plain": [
       "   SN         X         Y    Z\n",
       "0   1  1.200000  0.000000  0.0\n",
       "1   2  2.181818  1.636364  0.0\n",
       "2   3  2.400000  2.000000  0.8"
      ]
     },
     "execution_count": 19,
     "metadata": {},
     "output_type": "execute_result"
    }
   ],
   "source": [
    "df"
   ]
  }
 ],
 "metadata": {
  "kernelspec": {
   "display_name": "Python 3 (ipykernel)",
   "language": "python",
   "name": "python3"
  },
  "language_info": {
   "codemirror_mode": {
    "name": "ipython",
    "version": 3
   },
   "file_extension": ".py",
   "mimetype": "text/x-python",
   "name": "python",
   "nbconvert_exporter": "python",
   "pygments_lexer": "ipython3",
   "version": "3.7.0"
  }
 },
 "nbformat": 4,
 "nbformat_minor": 5
}
